{
  "cells": [
    {
      "cell_type": "markdown",
      "metadata": {
        "id": "C5IXarKxgiOr"
      },
      "source": [
        "# Q1\n",
        "\n",
        "Consider the probability distribution below:\n",
        "\n",
        "$$P(x) = e^{0.4(x-0.4)^2 - 0.08 x^4}$$\n"
      ],
      "id": "C5IXarKxgiOr"
    },
    {
      "cell_type": "markdown",
      "metadata": {
        "id": "VpNc6A_xgiOv"
      },
      "source": [
        "## normal the diss 👾(a)\n",
        "Write a function to implement Metropolice algorithm to generate random samples that have the same PDF as the given formula."
      ],
      "id": "VpNc6A_xgiOv"
    },
    {
      "cell_type": "code",
      "execution_count": 180,
      "metadata": {
        "id": "JkYB8aOWgiOw"
      },
      "outputs": [],
      "source": [
        "import numpy as np\n",
        "import matplotlib.pyplot as plt\n",
        "from random import random\n",
        "import pandas as pd"
      ],
      "id": "JkYB8aOWgiOw"
    },
    {
      "cell_type": "code",
      "source": [
        "from statsmodels.graphics.tsaplots import plot_acf"
      ],
      "metadata": {
        "id": "fWrgFmHQsOo1"
      },
      "id": "fWrgFmHQsOo1",
      "execution_count": 181,
      "outputs": []
    },
    {
      "cell_type": "code",
      "execution_count": 3,
      "metadata": {
        "id": "07HqPARqgiO0"
      },
      "outputs": [],
      "source": [
        "def P(x):\n",
        "    return np.exp(.4*(x-.4)**2 - .08*x**4)"
      ],
      "id": "07HqPARqgiO0"
    },
    {
      "cell_type": "code",
      "source": [
        "def w(x_trial,x_i):\n",
        "    return P(x_i)/P(x_trial)\n"
      ],
      "metadata": {
        "id": "VORcdrgK4beQ"
      },
      "id": "VORcdrgK4beQ",
      "execution_count": 4,
      "outputs": []
    },
    {
      "cell_type": "code",
      "execution_count": 28,
      "metadata": {
        "id": "znd7peUSgiO3"
      },
      "outputs": [],
      "source": [
        "def Metropolice(step,n,x_trial, x_i):\n",
        "    points=[x_i]\n",
        "    for j in range(n):\n",
        "      a= w(x_trial,x_i)\n",
        "      rand= np.random.rand()\n",
        "\n",
        "      if a >=1 or a>=rand :\n",
        "        points.append(x_i)\n",
        "        newrand= x_i+ ( np.random.rand()*2*step - step )\n",
        "        x_trial, x_i= x_i, newrand\n",
        "\n",
        "      else :\n",
        "        points.append(x_trial)\n",
        "        x_trial, x_i= x_trial,x_trial\n",
        "\n",
        "    return points\n",
        "        \n",
        "      \n",
        "      \n",
        "   "
      ],
      "id": "znd7peUSgiO3"
    },
    {
      "cell_type": "code",
      "source": [
        "n=100000\n",
        "d=Metropolice(2,n,-1,-3)\n",
        "print(len(d))\n",
        "#print(d)"
      ],
      "metadata": {
        "colab": {
          "base_uri": "https://localhost:8080/"
        },
        "id": "NXATM_NgjLyL",
        "outputId": "c5243762-251a-4a22-cc82-8d2caf654f6b"
      },
      "id": "NXATM_NgjLyL",
      "execution_count": 29,
      "outputs": [
        {
          "output_type": "stream",
          "name": "stdout",
          "text": [
            "100001\n"
          ]
        }
      ]
    },
    {
      "cell_type": "markdown",
      "metadata": {
        "id": "NhkMYGAPgiO4"
      },
      "source": [
        "## ✅(b)\n",
        "Plot the function alongside with the histogram of the generated sample. Do they match? If not, what shall be done here?"
      ],
      "id": "NhkMYGAPgiO4"
    },
    {
      "cell_type": "code",
      "source": [
        "x= np.random.rand(1000)*7-4\n",
        "plt.plot(x,P(x)/(3*(10/4)),'ro')\n",
        "plt.hist(d,density=1,bins=100);"
      ],
      "metadata": {
        "colab": {
          "base_uri": "https://localhost:8080/",
          "height": 265
        },
        "id": "OgRiZg6gjMSS",
        "outputId": "3742622b-8690-43f8-c809-e1fca3c2be87"
      },
      "id": "OgRiZg6gjMSS",
      "execution_count": 31,
      "outputs": [
        {
          "output_type": "display_data",
          "data": {
            "text/plain": [
              "<Figure size 432x288 with 1 Axes>"
            ],
            "image/png": "[encoded data removed]"
          },
          "metadata": {
            "needs_background": "light"
          }
        }
      ]
    },
    {
      "cell_type": "markdown",
      "source": [
        "### TA plot"
      ],
      "metadata": {
        "id": "-LMEYRnpBLa7"
      },
      "id": "-LMEYRnpBLa7"
    },
    {
      "cell_type": "code",
      "execution_count": null,
      "metadata": {
        "id": "ZLIQdPwigiO6",
        "outputId": "a9ede418-cba5-4a18-91b6-44936a328fc2"
      },
      "outputs": [
        {
          "data": {
            "image/png": "[encoded data removed]",
            "text/plain": [
              "<Figure size 432x288 with 1 Axes>"
            ]
          },
          "metadata": {
            "needs_background": "light"
          },
          "output_type": "display_data"
        }
      ],
      "source": [
        "plt.bar(...)\n",
        "plt.plot(...)\n",
        "..."
      ],
      "id": "ZLIQdPwigiO6"
    },
    {
      "cell_type": "markdown",
      "metadata": {
        "id": "DT19hVaygiO8"
      },
      "source": [
        "## ✅(c)\n",
        "Generate data using Metropolice algorithm with four different values for step size (0.1, 0.5, 1 and 2) and plot the autocorrelation function for each case. which one becomes uncorrelated sooner?"
      ],
      "id": "DT19hVaygiO8"
    },
    {
      "cell_type": "code",
      "source": [
        "step=[.1,.5,1,2]\n",
        "n=100000\n",
        "metro=[ Metropolice(steps,n,0,-3) for steps in step ]\n",
        "for i in metro:\n",
        "  plt.hist(i,density=1,bins=100)"
      ],
      "metadata": {
        "colab": {
          "base_uri": "https://localhost:8080/",
          "height": 265
        },
        "id": "CMJBwZgpsO1O",
        "outputId": "134a3d06-ec67-4f77-92fc-10181d04c5d7"
      },
      "id": "CMJBwZgpsO1O",
      "execution_count": 32,
      "outputs": [
        {
          "output_type": "display_data",
          "data": {
            "text/plain": [
              "<Figure size 432x288 with 1 Axes>"
            ],
            "image/png": "[encoded data removed]"
          },
          "metadata": {
            "needs_background": "light"
          }
        }
      ]
    },
    {
      "cell_type": "code",
      "source": [
        "df= pd.DataFrame(metro)\n",
        "df= df.T"
      ],
      "metadata": {
        "id": "bKsJ6VrmwSQY"
      },
      "id": "bKsJ6VrmwSQY",
      "execution_count": 33,
      "outputs": []
    },
    {
      "cell_type": "code",
      "source": [
        "fig, ax = plt.subplots(2,1,figsize=(20,40))\n",
        "plot_acf(df[0], lags=100,ax=ax[0],use_vlines=0);\n",
        "plot_acf(df[1], lags=100,ax=ax[0],use_vlines=0);\n",
        "plot_acf(df[2], lags=100,ax=ax[0],use_vlines=0);\n",
        "plot_acf(df[3], lags=100,ax=ax[0],use_vlines=0);\n",
        "plt.show()"
      ],
      "metadata": {
        "colab": {
          "base_uri": "https://localhost:8080/",
          "height": 1000
        },
        "id": "ASlw9DImu7_2",
        "outputId": "88f46c0d-98b3-4cdf-d595-6c1dc93bb7ad"
      },
      "id": "ASlw9DImu7_2",
      "execution_count": 34,
      "outputs": [
        {
          "output_type": "display_data",
          "data": {
            "text/plain": [
              "<Figure size 1440x2880 with 2 Axes>"
            ],
            "image/png": "[encoded data removed]"
          },
          "metadata": {
            "needs_background": "light"
          }
        }
      ]
    },
    {
      "cell_type": "markdown",
      "metadata": {
        "id": "IBzqgdhigiO_"
      },
      "source": [
        "# Q2: Variational Monte Carlo"
      ],
      "id": "IBzqgdhigiO_"
    },
    {
      "cell_type": "markdown",
      "metadata": {
        "id": "Z0diNRlugiPA"
      },
      "source": [
        "Imagine we have a quantum harmonic osscilator were the Hamiltonian is\n",
        "$$\\hat{H} = -\\frac{1}{2}\\frac{d^2}{dx^2} + \\frac{1}{2}x^2 $$\n",
        "\n",
        "In oreder to solve this, we guess a wave function, and then using Monte Carlo methods, we try to find the lowest energy state.\n",
        "\n",
        "Now imagine our wave function is\n",
        "\n",
        "$$ \\psi \\propto e^{-\\lambda x^2} $$\n",
        "\n",
        "Then the local energy of the system at each point would be\n",
        "\n",
        "$$ E_L = \\frac{H \\psi}{\\psi} = \\lambda + x^2 (\\frac{1}{2} - 2\\lambda^2) $$"
      ],
      "id": "Z0diNRlugiPA"
    },
    {
      "cell_type": "markdown",
      "metadata": {
        "id": "tFPhILKlgiPB"
      },
      "source": [
        "## normal diss 👾(a)\n",
        "\n",
        "Write a Metropolice algorithm to generate values for $x$ as a function of $\\lambda$. Then plot the PDF alongside with the analitycal function for $P(x) = \\psi^2(x)$ to confirm that they match.\n",
        "\n",
        "P.S. in quantum mechanics, the probability function is always given as $\\psi^2$."
      ],
      "id": "tFPhILKlgiPB"
    },
    {
      "cell_type": "code",
      "source": [
        "import numpy as np\n",
        "import matplotlib.pyplot as plt\n",
        "from random import random"
      ],
      "metadata": {
        "id": "wqjw5W7VgtFg"
      },
      "id": "wqjw5W7VgtFg",
      "execution_count": null,
      "outputs": []
    },
    {
      "cell_type": "code",
      "execution_count": 446,
      "metadata": {
        "id": "OtguA71agiPC"
      },
      "outputs": [],
      "source": [
        "def P(x, la):\n",
        "    return np.exp(-1 * la * x**2)\n",
        "\n"
      ],
      "id": "OtguA71agiPC"
    },
    {
      "cell_type": "code",
      "source": [
        "def w(x_trial,x_i,la):\n",
        "    return P(x_i,la)/P(x_trial,la)\n"
      ],
      "metadata": {
        "id": "CNTExCSXT6Q8"
      },
      "id": "CNTExCSXT6Q8",
      "execution_count": 447,
      "outputs": []
    },
    {
      "cell_type": "code",
      "execution_count": 448,
      "metadata": {
        "id": "iKUfa99EZO8a"
      },
      "outputs": [],
      "source": [
        "def Metropolice(step,n,x_trial, x_i,la):\n",
        "    points=[x_i]\n",
        "    for j in range(n):\n",
        "      a= w(x_trial,x_i,la)\n",
        "      rand= np.random.rand()\n",
        "\n",
        "      if a >=1 or a>=rand :\n",
        "        points.append(x_i)\n",
        "        newrand= x_i+ ( np.random.rand()*2*step - step )\n",
        "        x_trial, x_i= x_i, newrand\n",
        "\n",
        "      else :\n",
        "        points.append(x_trial)\n",
        "        x_trial, x_i= x_trial,x_trial\n",
        "\n",
        "    return points\n",
        "        \n",
        "      \n",
        "      \n",
        "   "
      ],
      "id": "iKUfa99EZO8a"
    },
    {
      "cell_type": "code",
      "source": [
        "n = 100000\n",
        "xx=Metropolice(1,n,-2,-1,1)\n",
        "print(len(xx))\n"
      ],
      "metadata": {
        "colab": {
          "base_uri": "https://localhost:8080/"
        },
        "id": "irAGaWFwZZhP",
        "outputId": "ddd126ac-9647-4286-fb60-fbc676668227"
      },
      "id": "irAGaWFwZZhP",
      "execution_count": 451,
      "outputs": [
        {
          "output_type": "stream",
          "name": "stdout",
          "text": [
            "100001\n"
          ]
        }
      ]
    },
    {
      "cell_type": "code",
      "source": [
        "n = 100000\n",
        "x= np.random.rand(n)*4-2\n",
        "bins = 100\n",
        "counts, bins, _ =plt.hist(xx,bins,density=1);\n",
        "p=P(x,1)\n",
        "\n",
        "plt.plot(x,p*.6,'r.')\n",
        "plt.legend(['PDF','func'])"
      ],
      "metadata": {
        "colab": {
          "base_uri": "https://localhost:8080/",
          "height": 282
        },
        "id": "_yaBcW0Pcb7w",
        "outputId": "ca41c5dd-3eba-4dda-88b7-cc6b5930fe40"
      },
      "id": "_yaBcW0Pcb7w",
      "execution_count": 452,
      "outputs": [
        {
          "output_type": "execute_result",
          "data": {
            "text/plain": [
              "<matplotlib.legend.Legend at 0x7f6d9c860dd0>"
            ]
          },
          "metadata": {},
          "execution_count": 452
        },
        {
          "output_type": "display_data",
          "data": {
            "text/plain": [
              "<Figure size 432x288 with 1 Axes>"
            ],
            "image/png": "[encoded data removed]"
          },
          "metadata": {
            "needs_background": "light"
          }
        }
      ]
    },
    {
      "cell_type": "markdown",
      "source": [
        "### TA plot"
      ],
      "metadata": {
        "id": "dk8Nh7GSeBAA"
      },
      "id": "dk8Nh7GSeBAA"
    },
    {
      "cell_type": "code",
      "execution_count": null,
      "metadata": {
        "scrolled": true,
        "id": "FyHy3VMRgiPE",
        "outputId": "f55be8e5-f27f-4f11-ba4b-1c4d7cd5e9a2"
      },
      "outputs": [
        {
          "data": {
            "image/png": "[encoded data removed]",
            "text/plain": [
              "<Figure size 432x288 with 1 Axes>"
            ]
          },
          "metadata": {
            "needs_background": "light"
          },
          "output_type": "display_data"
        }
      ],
      "source": [
        "..."
      ],
      "id": "FyHy3VMRgiPE"
    },
    {
      "cell_type": "markdown",
      "metadata": {
        "id": "QnR5qv-bgiPF"
      },
      "source": [
        "## ✅(b)\n",
        "\n",
        "Write two functions to calculate the expectation value $\\langle E_L \\rangle$ and $\\sigma^2 = \\langle E_L^2 \\rangle - \\langle E_L \\rangle^2$ as a function of $\\lambda$."
      ],
      "id": "QnR5qv-bgiPF"
    },
    {
      "cell_type": "markdown",
      "source": [
        "$$ E_L = \\frac{H \\psi}{\\psi} = \\lambda + x^2 (\\frac{1}{2} - 2\\lambda^2) $$"
      ],
      "metadata": {
        "id": "sPesAVSrHxf_"
      },
      "id": "sPesAVSrHxf_"
    },
    {
      "cell_type": "code",
      "source": [
        "from scipy import integrate"
      ],
      "metadata": {
        "id": "SvCtOr7aVbq6"
      },
      "id": "SvCtOr7aVbq6",
      "execution_count": 74,
      "outputs": []
    },
    {
      "cell_type": "code",
      "source": [
        "def mean_sigma2(la):\n",
        "  \n",
        "  e= lambda xraw: ( la+np.power(xraw,2)*(.5 -2*la**2 ) ) * np.exp(-2 * la * np.power(xraw,2))\n",
        "  e2= lambda xraw: ( ( la+np.power(xraw,2)*(.5 -2*la**2 ) ) **2 ) * np.exp(-2 * la * np.power(xraw,2))\n",
        "\n",
        "  mean=  integrate.quad(e,-np.inf,np.inf)[0]\n",
        "  var=  integrate.quad(e2,-np.inf,np.inf)[0] - mean**2\n",
        "\n",
        "  return [mean , var ]"
      ],
      "metadata": {
        "id": "L3fzImanVeR_"
      },
      "id": "L3fzImanVeR_",
      "execution_count": 176,
      "outputs": []
    },
    {
      "cell_type": "markdown",
      "metadata": {
        "id": "bBDy3nZIgiPI"
      },
      "source": [
        "## 50👾 (c)\n",
        "\n",
        "Generate a uniform sample of values for $\\lambda$, plot the mean and the variance and find the best value for $\\lambda$ (The minimum energy value)."
      ],
      "id": "bBDy3nZIgiPI"
    },
    {
      "cell_type": "code",
      "source": [
        "la= np.arange(0,3,.01)\n",
        "n=100\n",
        "resp=np.zeros(n+1)\n",
        "for i in la:\n",
        "  resp= np.vstack((resp,Metropolice(2,n,-2,-1,i)))"
      ],
      "metadata": {
        "id": "8ebnm7mFi6W0"
      },
      "id": "8ebnm7mFi6W0",
      "execution_count": 177,
      "outputs": []
    },
    {
      "cell_type": "code",
      "source": [
        "mean=[mean_sigma2(i)[0] for i in la]\n",
        "var= [mean_sigma2(i)[1] for i in la]\n"
      ],
      "metadata": {
        "id": "apDTD0nwItVj",
        "colab": {
          "base_uri": "https://localhost:8080/"
        },
        "outputId": "5ebb4ec0-495e-4206-c88f-534e85547828"
      },
      "id": "apDTD0nwItVj",
      "execution_count": 178,
      "outputs": [
        {
          "output_type": "stream",
          "name": "stderr",
          "text": [
            "/usr/local/lib/python3.7/dist-packages/ipykernel_launcher.py:6: IntegrationWarning: The integral is probably divergent, or slowly convergent.\n",
            "  \n",
            "/usr/local/lib/python3.7/dist-packages/ipykernel_launcher.py:7: IntegrationWarning: The integral is probably divergent, or slowly convergent.\n",
            "  import sys\n"
          ]
        }
      ]
    },
    {
      "cell_type": "code",
      "source": [
        "plt.ylim(-1,9)\n",
        "plt.xlim(0,3)\n",
        "plt.plot(la,mean,'.');\n",
        "plt.show()\n",
        "\n",
        "# این شکلش درنمیاد نمیدونم چرا!\n",
        "plt.plot(la,var,'.')"
      ],
      "metadata": {
        "colab": {
          "base_uri": "https://localhost:8080/",
          "height": 530
        },
        "id": "Yu5UbC2ZI9sP",
        "outputId": "1553acb6-409c-4ade-819b-2c3d43cc9dc0"
      },
      "id": "Yu5UbC2ZI9sP",
      "execution_count": 179,
      "outputs": [
        {
          "output_type": "display_data",
          "data": {
            "text/plain": [
              "<Figure size 432x288 with 1 Axes>"
            ],
            "image/png": "[encoded data removed]"
          },
          "metadata": {
            "needs_background": "light"
          }
        },
        {
          "output_type": "execute_result",
          "data": {
            "text/plain": [
              "[<matplotlib.lines.Line2D at 0x7f6da288ae50>]"
            ]
          },
          "metadata": {},
          "execution_count": 179
        },
        {
          "output_type": "display_data",
          "data": {
            "text/plain": [
              "<Figure size 432x288 with 1 Axes>"
            ],
            "image/png": "[encoded data removed]"
          },
          "metadata": {
            "needs_background": "light"
          }
        }
      ]
    },
    {
      "cell_type": "markdown",
      "source": [
        "## TA plot"
      ],
      "metadata": {
        "id": "Bs1MGmBtcgFl"
      },
      "id": "Bs1MGmBtcgFl"
    },
    {
      "cell_type": "code",
      "execution_count": null,
      "metadata": {
        "id": "n5KV7llAgiPI",
        "outputId": "3f3def13-ecf9-4e27-ea05-876e444e2332"
      },
      "outputs": [
        {
          "data": {
            "image/png": "[encoded data removed]",
            "text/plain": [
              "<Figure size 1152x288 with 2 Axes>"
            ]
          },
          "metadata": {
            "needs_background": "light"
          },
          "output_type": "display_data"
        }
      ],
      "source": [
        "..."
      ],
      "id": "n5KV7llAgiPI"
    },
    {
      "cell_type": "markdown",
      "metadata": {
        "id": "HFTSKxUqgiPJ"
      },
      "source": [
        "## ✅(d)\n",
        "\n",
        "What's the sinificance of $\\sigma^2$? Explain in a few lines in Farsi or English."
      ],
      "id": "HFTSKxUqgiPJ"
    },
    {
      "cell_type": "markdown",
      "metadata": {
        "id": "08odh3VTgiPK"
      },
      "source": [
        "عدم قطعیت انرژی است. این که اصل عدم قطعیت برای انرژی و رمان هم مثل مکان و تکانه برقرار است و نیاز به انجراف از معیار که همان خطای انرژی است داریم"
      ],
      "id": "08odh3VTgiPK"
    },
    {
      "cell_type": "markdown",
      "metadata": {
        "id": "F2oOp9fpgiPL"
      },
      "source": [
        "# ✅Importance sampling"
      ],
      "id": "F2oOp9fpgiPL"
    },
    {
      "cell_type": "markdown",
      "metadata": {
        "id": "SeXwujSsgiPL"
      },
      "source": [
        "A frequently used method is Importance Sampling. In this method, a proxy distribution is introduced to sample random numbers from any distribution. In most cases, we choose a well-known distribution such as Gaussian distribution, uniform distribution as a proxy distribution. The main concept of this method can be simply written in the following form, where q(x) is a proxy distribution.\n"
      ],
      "id": "SeXwujSsgiPL"
    },
    {
      "cell_type": "markdown",
      "metadata": {
        "id": "Ths_hetJgiPM"
      },
      "source": [
        "With Importance Sampling, instead of generating random numbers from p(x), we choose i.i.d samples ${x_i} (i=1,2,…,n)$ from a proxy distribution q(x) and approximate the integration value with the following calculation. Here, p(x)/q(x) is called importance of the sampling."
      ],
      "id": "Ths_hetJgiPM"
    },
    {
      "cell_type": "markdown",
      "metadata": {
        "id": "DFWxGVE8giPO"
      },
      "source": [
        "Now, let’s use a Laplace distribution’ variance calculation as an example.\n",
        "Consider f(x)=x² and a probability density function p(x)=1/2 Exp(-|x|). The distribution with density function like p(x) is called Laplace distribution.\n",
        "If we choose a uniform distribution as a proxy distribution, the variance of the Laplace distribution can be approximately calculated by"
      ],
      "id": "DFWxGVE8giPO"
    },
    {
      "cell_type": "markdown",
      "metadata": {
        "id": "ocheAX7lgiPP"
      },
      "source": [
        "With paper and a pencil, we can easily calculate the Var[x]. The value of this calculation is 2. Now confirm the result of the Importance Sampling method."
      ],
      "id": "ocheAX7lgiPP"
    },
    {
      "cell_type": "markdown",
      "metadata": {
        "id": "kgF9sdX3giPQ"
      },
      "source": [
        "# ✅Inverse Transform Sampling"
      ],
      "id": "kgF9sdX3giPQ"
    },
    {
      "cell_type": "markdown",
      "metadata": {
        "id": "_HKOfStEgiPQ"
      },
      "source": [
        "In Inverse Transform Sampling method, we use a random number u generated from a 1-dimensional uniform distribution to generate a random number x of any 1-dimensional probability density function p(x). In this case, we use the inverse function of the cumulative distribution function of p(x). If the cumulative distribution function of p(x) is P(x), then the inverse function of u=P(x) is x =P^-1 (u). Now, $x = P^-1 (u)$ has p(x) as probability density function on [0,1]. Therefore, with n samples from uniform distribution on [0,1] ${u_i} (i=1,2,…,n)$, we can generate n sample of p(x) distribution ${x_i} (i=1,2,…,n)$ by calculate $x_i = P^{-1}(u_i)$.\n",
        "\n",
        "Again, let's consider the Laplace distribution’s variance calculation as an example. This time we directly generate random numbers (samples) from the Laplace distribution’s probability density function using the Inverse Transform Sampling method. With these random numbers, we will again recalculate the approximated value of Var[x]."
      ],
      "id": "_HKOfStEgiPQ"
    },
    {
      "cell_type": "markdown",
      "metadata": {
        "id": "diq7_k8PgiPS"
      },
      "source": [
        "Now check the result of this method."
      ],
      "id": "diq7_k8PgiPS"
    },
    {
      "cell_type": "code",
      "execution_count": 185,
      "metadata": {
        "id": "sZ-e6lRsgiPS"
      },
      "outputs": [],
      "source": [
        "#code here\n",
        "def arccum(u):\n",
        "  a= -np.sign(u-.5)*np.log(1-2*abs(u-.5))\n",
        "  return a"
      ],
      "id": "sZ-e6lRsgiPS"
    },
    {
      "cell_type": "code",
      "source": [
        "lap = np.random.laplace(0,1,1000)\n",
        "cum= [ arccum(u) for u in np.random.uniform(0,1,1000) ]\n",
        "plt.hist(lap,density=1,bins=100);\n",
        "plt.hist(cum,density=1,bins=100);"
      ],
      "metadata": {
        "colab": {
          "base_uri": "https://localhost:8080/",
          "height": 265
        },
        "id": "TNNOET8gmLLv",
        "outputId": "ee7a5d9d-dcfe-495e-a129-c88a0f853dde"
      },
      "id": "TNNOET8gmLLv",
      "execution_count": 194,
      "outputs": [
        {
          "output_type": "display_data",
          "data": {
            "text/plain": [
              "<Figure size 432x288 with 1 Axes>"
            ],
            "image/png": "[encoded data removed]"
          },
          "metadata": {
            "needs_background": "light"
          }
        }
      ]
    },
    {
      "cell_type": "markdown",
      "metadata": {
        "id": "xF6h3ZKPgiPT"
      },
      "source": [
        "#✅ Rejection Sampling "
      ],
      "id": "xF6h3ZKPgiPT"
    },
    {
      "cell_type": "markdown",
      "metadata": {
        "id": "4BHEMmXWgiPT"
      },
      "source": [
        ""
      ],
      "id": "4BHEMmXWgiPT"
    },
    {
      "cell_type": "markdown",
      "metadata": {
        "id": "t_kBeBwxgiPU"
      },
      "source": [
        "The idea in Rejection Sampling is to use a proxy distribution (Gaussian or uniform distribution, etc.) called q(x) to generate a random number and use another uniform distribution to evaluate the generated sample whether or not to accept it as a sample generated from p(x). With this method, we can also generate random numbers from a higher dimensional distribution.\n",
        "\n",
        "As preparation in generating random numbers with this method, we need to know a finite value of L where max[p(x)/q(x)] < L. Here, q(x) is a proxy distribution.\n",
        "\n",
        "First, we generate a random number x’ from a proxy distribution q(x). This x’ is called a proposal point.<br>\n",
        "Next, generate a random number v from a uniform distribution on [0, L]. This v will be used to evaluate the proposal point, whether to be fine considering generated from p(x).<br>\n",
        "If v ≤ p(x’)/q(x’), then x’ is accepted as a random number generated by p(x), else, x’ is rejected.\n",
        "The algorithm in generating n random numbers with Rejection Sampling is"
      ],
      "id": "t_kBeBwxgiPU"
    },
    {
      "cell_type": "markdown",
      "metadata": {
        "id": "SiEGk9LmgiPV"
      },
      "source": [
        "Now use rejection sampling method to evaluate the variance of Laplace Distribution."
      ],
      "id": "SiEGk9LmgiPV"
    },
    {
      "cell_type": "code",
      "source": [
        "def p(x):\n",
        "  return .5*np.exp(-abs(x))\n",
        "\n",
        "p=np.vectorize(p)"
      ],
      "metadata": {
        "id": "6E2qv_IooV8s"
      },
      "id": "6E2qv_IooV8s",
      "execution_count": 195,
      "outputs": []
    },
    {
      "cell_type": "code",
      "source": [
        "# سعی کردم فور استفاده نکنم زیاد :)\n",
        "point=[]\n",
        "n=10000\n",
        "var=1\n",
        "L=np.random.rand(n)*10\n",
        "gau= np.random.normal(0,var,n)\n",
        "\n",
        "a= p(gau)/gau\n",
        "for i in range(n):\n",
        "  l= np.random.uniform(0,L[i])\n",
        "  if l>a[i]:\n",
        "    point.append(gau[i])\n",
        "\n",
        "plt.hist(point,density=1,bins=100);\n",
        "lap = np.random.laplace(0,1,n)\n",
        "plt.hist(lap,density=1,bins=100);"
      ],
      "metadata": {
        "colab": {
          "base_uri": "https://localhost:8080/",
          "height": 268
        },
        "id": "LgxdUBI8oegZ",
        "outputId": "40b90e76-8ea3-426c-fc97-9822db5efcb3"
      },
      "id": "LgxdUBI8oegZ",
      "execution_count": 241,
      "outputs": [
        {
          "output_type": "display_data",
          "data": {
            "text/plain": [
              "<Figure size 432x288 with 1 Axes>"
            ],
            "image/png": "[encoded data removed]"
          },
          "metadata": {
            "needs_background": "light"
          }
        }
      ]
    },
    {
      "cell_type": "code",
      "source": [
        "# var:\n",
        "print(np.var(point), np.var(lap))\n",
        "# هر چی ان بیشتر بشه این دوتا مقدار به هم نزدیک تر میشن"
      ],
      "metadata": {
        "colab": {
          "base_uri": "https://localhost:8080/"
        },
        "id": "4u-mI57Bt9Ed",
        "outputId": "114e4c85-3b5f-4f75-8f34-63348b65325f"
      },
      "id": "4u-mI57Bt9Ed",
      "execution_count": 243,
      "outputs": [
        {
          "output_type": "stream",
          "name": "stdout",
          "text": [
            "1.1125096506188126 1.956204529170947\n"
          ]
        }
      ]
    },
    {
      "cell_type": "markdown",
      "metadata": {
        "id": "xKm8Nf4tgiPW"
      },
      "source": [
        "# ✅Markov Chain Monte carlo method(MCMC)"
      ],
      "id": "xKm8Nf4tgiPW"
    },
    {
      "cell_type": "markdown",
      "metadata": {
        "id": "9WfTFnEUgiPW"
      },
      "source": [
        "In the Rejection sampling method, it is impossible to generate random numbers when the upper boundary L is not known. MCMC method is an effective solution to this problem. MCMC method uses the concept of a stochastic process (Markov chain in this case). In this case, the generation of i-th sample $x_i$ depends on the previous sample $x_{i-1}$. ${x_1, x_2, …,x_n}$ with this concept is called a Markov chain. Here, I introduce one of the MCMC methods, the Metropolis-Hastings method.<br>\n",
        "\n",
        "The process in this method is similar to Rejection sampling. But here, a proxy distribution density function is represented by a conditional probability $q(x|x_i)$, and the evaluation index v is generated from a uniform distribution on [0,1].<br>\n",
        "\n",
        "First, we generate a random number x’ from a proxy distribution $q(x|x_i)$. This x’ is called a proposal point.<br>\n",
        "Next, generate a random number v from a uniform distribution on [0, 1]. This v will be used to evaluate the proposal point, whether to be fine considering generated from p(x).<br>\n",
        "If $v ≤ p(x’)q(x_i|x’)/(p(x_i)q(x’|x_i))$, then x’ is accepted as a random number generated by p(x), else, x’ is rejected.<br>\n",
        "The algorithm in generating n random numbers with Rejection Sampling is"
      ],
      "id": "9WfTFnEUgiPW"
    },
    {
      "cell_type": "markdown",
      "metadata": {
        "id": "UlZqyJN-giPX"
      },
      "source": [
        "Now use MCMC to calculate the variance of Laplace Distribution."
      ],
      "id": "UlZqyJN-giPX"
    },
    {
      "cell_type": "code",
      "execution_count": 454,
      "metadata": {
        "id": "2aBV3nv2giPY"
      },
      "outputs": [],
      "source": [
        "#code here\n",
        "def p(x):\n",
        "  return .5*np.exp(-abs(x))\n"
      ],
      "id": "2aBV3nv2giPY"
    },
    {
      "cell_type": "code",
      "source": [
        "def Q(sigma,x_p,x_i):\n",
        "    mu= x_p\n",
        "    x= x_i\n",
        "\n",
        "    numerator = np.exp( ((x-mu)**2) / (-2*sigma**2) )\n",
        "    denominator = sigma * np.sqrt(2*np.pi)\n",
        "    return numerator/denominator\n"
      ],
      "metadata": {
        "id": "6am0XgOZw6zw"
      },
      "id": "6am0XgOZw6zw",
      "execution_count": 455,
      "outputs": []
    },
    {
      "cell_type": "markdown",
      "source": [
        "توضیح:\n",
        "اینجا میخوام هر نقطه ای که اکسپت شد، بشه میانگین تابع گاوسین بعدی"
      ],
      "metadata": {
        "id": "2GDf8Fus7OuW"
      },
      "id": "2GDf8Fus7OuW"
    },
    {
      "cell_type": "code",
      "source": [
        "def Metropolice(sigma,n,x_p, x_i):\n",
        "    points=[]\n",
        "    yn=[]\n",
        "    for j in range(n):\n",
        "\n",
        "      \n",
        "\n",
        "      q= Q(sigma,x_p,x_i)\n",
        "      q2= Q(sigma,x_i,x_p)\n",
        "\n",
        "      b= p(x_i)* q2\n",
        "      while b==0:\n",
        "        gau= np.random.normal(x_p,sigma)\n",
        "        x_i=gau\n",
        "        b= p(x_i)* Q(sigma,x_p,x_i)\n",
        "\n",
        "      a= p(x_i)/p(x_p) * q/q2\n",
        "      rand= np.random.uniform(0,1)\n",
        "\n",
        "      if a>rand :\n",
        "        points.append(x_i)\n",
        "        gau= np.random.normal(x_i,sigma)\n",
        "        x_p,x_i= x_i,gau\n",
        "\n",
        "        # اگر قبول شد. بیا ایکس آی رو بذار جای ایکس پی (که همون میانگین تابع اصلیمون هست) و یک رندوم دیگه از همین تابع گوسی جدیدمون بساز\n",
        "        yn.append(1)\n",
        "\n",
        "      else :\n",
        "        points.append(x_p)\n",
        "        gau= np.random.normal(x_p,sigma)\n",
        "        x_i=gau\n",
        "        \n",
        "\n",
        "        # اگر قبول نشد. بیا مرکز بعدی رو همون ایکس پی قبلی نگه دار. ولی ی عدد جدید از گاوسی با مرکزیت ایکس پی پیدا کن\n",
        "        yn.append(0)\n",
        "        \n",
        "\n",
        "    return [points,yn]\n",
        "        \n",
        "      \n",
        "      \n",
        "   "
      ],
      "metadata": {
        "id": "tXX7DjFIw-ja"
      },
      "id": "tXX7DjFIw-ja",
      "execution_count": 456,
      "outputs": []
    },
    {
      "cell_type": "code",
      "source": [
        "n=10000\n",
        "point,yn= Metropolice(.5,n,1,.2)\n",
        "\n",
        "print(sum(yn))"
      ],
      "metadata": {
        "colab": {
          "base_uri": "https://localhost:8080/"
        },
        "id": "r0qp2vKzxJiA",
        "outputId": "99819fa3-ba3b-4039-cea0-569c11e12631"
      },
      "id": "r0qp2vKzxJiA",
      "execution_count": 457,
      "outputs": [
        {
          "output_type": "stream",
          "name": "stdout",
          "text": [
            "8289\n"
          ]
        }
      ]
    },
    {
      "cell_type": "code",
      "source": [
        "plt.hist(point,bins=100,density=1);\n",
        "lap = np.random.laplace(0,1,n)\n",
        "plt.hist(lap,bins=100,density=1);"
      ],
      "metadata": {
        "colab": {
          "base_uri": "https://localhost:8080/",
          "height": 265
        },
        "id": "e63XXgyJxRPw",
        "outputId": "f8298825-7256-4bc6-e42e-0c247ebc7da0"
      },
      "id": "e63XXgyJxRPw",
      "execution_count": 458,
      "outputs": [
        {
          "output_type": "display_data",
          "data": {
            "text/plain": [
              "<Figure size 432x288 with 1 Axes>"
            ],
            "image/png": "[encoded data removed]"
          },
          "metadata": {
            "needs_background": "light"
          }
        }
      ]
    },
    {
      "cell_type": "code",
      "source": [
        "# var:\n",
        "print(np.var(point), np.var(lap))"
      ],
      "metadata": {
        "colab": {
          "base_uri": "https://localhost:8080/"
        },
        "id": "8zQT3BVQxdMr",
        "outputId": "12175c7b-dc9c-44fd-9e2a-bb18088ad00a"
      },
      "id": "8zQT3BVQxdMr",
      "execution_count": 459,
      "outputs": [
        {
          "output_type": "stream",
          "name": "stdout",
          "text": [
            "2.096909844889066 1.958320977410753\n"
          ]
        }
      ]
    },
    {
      "cell_type": "code",
      "source": [
        ""
      ],
      "metadata": {
        "id": "BkZkY8PLyFh1"
      },
      "id": "BkZkY8PLyFh1",
      "execution_count": null,
      "outputs": []
    }
  ],
  "metadata": {
    "hide_input": false,
    "kernelspec": {
      "display_name": "Python 3",
      "language": "python",
      "name": "python3"
    },
    "language_info": {
      "codemirror_mode": {
        "name": "ipython",
        "version": 3
      },
      "file_extension": ".py",
      "mimetype": "text/x-python",
      "name": "python",
      "nbconvert_exporter": "python",
      "pygments_lexer": "ipython3",
      "version": "3.8.5"
    },
    "toc": {
      "base_numbering": 1,
      "nav_menu": {},
      "number_sections": true,
      "sideBar": true,
      "skip_h1_title": false,
      "title_cell": "Table of Contents",
      "title_sidebar": "Contents",
      "toc_cell": false,
      "toc_position": {},
      "toc_section_display": true,
      "toc_window_display": false
    },
    "colab": {
      "name": "Copy of Copy of set_07.ipynb",
      "provenance": [],
      "collapsed_sections": [],
      "toc_visible": true
    }
  },
  "nbformat": 4,
  "nbformat_minor": 5
}